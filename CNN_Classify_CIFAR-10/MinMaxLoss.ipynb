{
 "cells": [
  {
   "cell_type": "code",
   "execution_count": 55,
   "metadata": {
    "collapsed": true
   },
   "outputs": [],
   "source": [
    "import matplotlib.pyplot as plt\n",
    "\n",
    "text_file = \"NetworkConfiguration_1_2.txt\"\n",
    "plot_file = \"NetworkConfiguration_1_2.png\"\n",
    "title = \"Network Configuration 1_2\""
   ]
  },
  {
   "cell_type": "code",
   "execution_count": 56,
   "metadata": {},
   "outputs": [
    {
     "name": "stdout",
     "output_type": "stream",
     "text": [
      "('MAX loss: ', 2.27473846507)\n",
      "('MIM loss: ', 0.481526128886)\n",
      "('Epoch: ', [1, 2, 3, 4, 5, 6, 7, 8, 9, 10, 11, 12, 13, 14, 15, 16, 17, 18, 19, 20, 21, 22, 23, 24, 25, 26, 27, 28, 29, 30, 31, 32, 33, 34, 35, 36, 37, 38, 39, 40, 41, 42, 43, 44, 45, 46, 47, 48, 49, 50])\n",
      "('Loss: ', [2.27473846507, 1.41621656073, 1.20902530248, 1.09601813234, 1.03534507237, 0.94224154646, 0.89809335899, 0.857325898383, 0.81204265191, 0.802612510079, 0.732676157242, 0.703219299967, 0.701917994372, 0.68373786751, 0.66921421893, 0.626234785147, 0.645956106261, 0.606475860543, 0.611796381805, 0.602353305995, 0.603072132604, 0.569287543335, 0.557688151245, 0.574966614619, 0.56082799785, 0.553617024114, 0.516890348336, 0.519781597269, 0.537462412133, 0.536447146584, 0.534586438734, 0.551592229946, 0.529717718321, 0.5335668198, 0.504698285628, 0.512300649217, 0.544696466382, 0.504416656882, 0.517333876337, 0.524389781396, 0.525288341958, 0.542081441284, 0.540109999437, 0.481526128886, 0.50564992819, 0.513786861772, 0.515848930314, 0.529369652385, 0.521555401599, 0.530178800044])\n"
     ]
    }
   ],
   "source": [
    "with open(text_file, \"r\") as ins:\n",
    "    max_loss = 0.0\n",
    "    min_loss = 100.0\n",
    "    epoch = 1\n",
    "    x_epoch = []\n",
    "    y_loss = []\n",
    "    for line in ins:\n",
    "        if(line == '\\n'):\n",
    "            pass\n",
    "        else:\n",
    "            a = line.strip().split(' ')\n",
    "            if(a[0] == 'Accuracy'):\n",
    "                pass\n",
    "            else:\n",
    "                #print(a[0][1:-1])\n",
    "                if (int(a[0][1:-1]) == epoch):\n",
    "                    #print(a[0][1:-1])\n",
    "                    x_epoch.append(int(a[0][1:-1]))\n",
    "                    epoch += 1\n",
    "                    y_loss.append(float(a[3]))\n",
    "                if(float(a[3]) > max_loss):\n",
    "                    max_loss = float(a[3])\n",
    "                if(float(a[3]) < min_loss):\n",
    "                    min_loss = float(a[3])\n",
    "                    \n",
    "print(\"MAX loss: \", max_loss)\n",
    "print(\"MIM loss: \", min_loss)\n",
    "print(\"Epoch: \", x_epoch)\n",
    "print(\"Loss: \", y_loss)"
   ]
  },
  {
   "cell_type": "code",
   "execution_count": 57,
   "metadata": {},
   "outputs": [
    {
     "data": {
      "image/png": "[encoded data removed]",
      "text/plain": [
       "<matplotlib.figure.Figure at 0x85b5710>"
      ]
     },
     "metadata": {},
     "output_type": "display_data"
    }
   ],
   "source": [
    "plt.plot(x_epoch, y_loss, 'r--')\n",
    "plt.xlabel('Number of epochs')\n",
    "plt.ylabel('Loss Rate')\n",
    "plt.title(title)\n",
    "plt.savefig(plot_file)\n",
    "plt.show()"
   ]
  },
  {
   "cell_type": "code",
   "execution_count": null,
   "metadata": {
    "collapsed": true
   },
   "outputs": [],
   "source": []
  }
 ],
 "metadata": {
  "kernelspec": {
   "display_name": "Python 2",
   "language": "python",
   "name": "python2"
  },
  "language_info": {
   "codemirror_mode": {
    "name": "ipython",
    "version": 2
   },
   "file_extension": ".py",
   "mimetype": "text/x-python",
   "name": "python",
   "nbconvert_exporter": "python",
   "pygments_lexer": "ipython2",
   "version": "2.7.13"
  }
 },
 "nbformat": 4,
 "nbformat_minor": 1
}
