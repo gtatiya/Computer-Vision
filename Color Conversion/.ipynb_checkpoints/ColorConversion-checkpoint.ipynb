{
 "cells": [
  {
   "cell_type": "markdown",
   "metadata": {},
   "source": [
    "## sRGB to CYMK values"
   ]
  },
  {
   "cell_type": "code",
   "execution_count": 1,
   "metadata": {
    "collapsed": true
   },
   "outputs": [],
   "source": [
    "\"\"\"\n",
    "https://gist.github.com/svschannak/8801034\n",
    "https://www.easyrgb.com/en/math.php\n",
    "http://www.rapidtables.com/convert/color/rgb-to-cmyk.htm\n",
    "https://forums.adobe.com/thread/428899\n",
    "\"\"\"\n",
    "\n",
    "def sRGB_to_CYMK(R, G, B):\n",
    "    CYMK_Scale = 100\n",
    "\n",
    "    # black color\n",
    "    if (R == 0) and (G == 0) and (B == 0):\n",
    "        return 0, 0, 0, cmyk_scale\n",
    "\n",
    "    C = 1 - R / 255.0\n",
    "    M = 1 - G / 255.0\n",
    "    Y = 1 - B / 255.0\n",
    "\n",
    "    min_cmy = min(C, M, Y)\n",
    "    C = ((C - min_cmy) / (1 - min_cmy))*CYMK_Scale\n",
    "    M = ((M - min_cmy) / (1 - min_cmy))*CYMK_Scale\n",
    "    Y = ((Y - min_cmy) / (1 - min_cmy))*CYMK_Scale\n",
    "    K = min_cmy*CYMK_Scale\n",
    "\n",
    "    return C, M, Y, K"
   ]
  },
  {
   "cell_type": "code",
   "execution_count": 2,
   "metadata": {},
   "outputs": [
    {
     "data": {
      "text/plain": [
       "(24.999999999999996, 70.0, 0.0, 21.568627450980394)"
      ]
     },
     "execution_count": 2,
     "metadata": {},
     "output_type": "execute_result"
    }
   ],
   "source": [
    "sRGB_to_CYMK(150, 60, 200)"
   ]
  },
  {
   "cell_type": "markdown",
   "metadata": {},
   "source": [
    "## sRGB to XYZ values"
   ]
  },
  {
   "cell_type": "code",
   "execution_count": 3,
   "metadata": {
    "collapsed": true
   },
   "outputs": [],
   "source": [
    "\"\"\"\n",
    "https://www.easyrgb.com/en/math.php\n",
    "https://stackoverflow.com/questions/6629798/whats-wrong-with-this-rgb-to-xyz-color-space-conversion-algorithm\n",
    "https://github.com/THEjoezack/ColorMine/blob/master/ColorMine/ColorSpaces/Conversions/XyzConverter.cs\n",
    "\"\"\"\n",
    "\n",
    "#sR, sG and sB (Standard RGB) input range = 0 ÷ 255\n",
    "#X, Y and Z output refer to a D65/2° standard illuminant.\n",
    "\n",
    "def sRGB_to_XYZ(R, G, B):\n",
    "    R = R / 255.0\n",
    "    G = G / 255.0\n",
    "    B = B / 255.0\n",
    "\n",
    "    if ( R > 0.04045 ):\n",
    "        R = ( ( R + 0.055 ) / 1.055 ) ** 2.4\n",
    "    else:\n",
    "        R = R / 12.92\n",
    "    if ( G > 0.04045 ):\n",
    "        G = ( ( G + 0.055 ) / 1.055 ) ** 2.4\n",
    "    else:\n",
    "        G = G / 12.92\n",
    "    if ( B > 0.04045 ):\n",
    "        B = ( ( B + 0.055 ) / 1.055 ) ** 2.4\n",
    "    else:\n",
    "        B = B / 12.92\n",
    "\n",
    "    R = R * 100\n",
    "    G = G * 100\n",
    "    B = B * 100\n",
    "\n",
    "    X = R * 0.4124 + G * 0.3576 + B * 0.1805\n",
    "    Y = R * 0.2126 + G * 0.7152 + B * 0.0722\n",
    "    Z = R * 0.0193 + G * 0.1192 + B * 0.9505\n",
    "\n",
    "    return X, Y, Z"
   ]
  },
  {
   "cell_type": "code",
   "execution_count": 4,
   "metadata": {},
   "outputs": [
    {
     "data": {
      "text/plain": [
       "(24.618862450829063, 13.885878414691376, 56.02626593527042)"
      ]
     },
     "execution_count": 4,
     "metadata": {},
     "output_type": "execute_result"
    }
   ],
   "source": [
    "sRGB_to_XYZ(150, 60, 200)"
   ]
  },
  {
   "cell_type": "markdown",
   "metadata": {},
   "source": [
    "## sRGB to HSL and HSV values"
   ]
  },
  {
   "cell_type": "code",
   "execution_count": 5,
   "metadata": {
    "collapsed": true
   },
   "outputs": [],
   "source": [
    "\"\"\"\n",
    "https://www.easyrgb.com/en/math.php\n",
    "https://www.easyrgb.com/en/convert.php#inputFORM\n",
    "http://www.rapidtables.com/convert/color/rgb-to-hsl.htm\n",
    "https://stackoverflow.com/questions/2353211/hsl-to-rgb-color-conversion\n",
    "\"\"\"\n",
    "\n",
    "def sRGB_to_HSLandHSV(R, G, B):\n",
    "    R = R / 255.0\n",
    "    G = G / 255.0\n",
    "    B = B / 255.0\n",
    "    \n",
    "    maxVal = max(R, B, G)\n",
    "    minVal = min(R, B, G)\n",
    "    \n",
    "    # Delta value\n",
    "    delta = maxVal - minVal \n",
    "\n",
    "    L = (maxVal + minVal)/2\n",
    "    V = maxVal\n",
    "    \n",
    "    # Gray\n",
    "    if(delta == 0):         \n",
    "        H = 0\n",
    "        S = 0\n",
    "    # Chromatic\n",
    "    else:                                    \n",
    "        if(L < 0.5):\n",
    "            S = delta / (maxVal + minVal)\n",
    "        else:\n",
    "            S = delta / (2 - maxVal - minVal)\n",
    "        \n",
    "        S_HSV = delta / maxVal\n",
    "\n",
    "        d = maxVal - minVal\n",
    "        if(R == maxVal):\n",
    "            if (var_G < var_B):\n",
    "                temp = 6\n",
    "            else:\n",
    "                temp = 0\n",
    "            H = ((G - B) / d + temp) / 6\n",
    "        elif(G == maxVal ):\n",
    "            H = ((B - R) / d + 2) / 6\n",
    "        elif(B == maxVal):\n",
    "            H = ((R - G) / d + 4) / 6\n",
    "\n",
    "    return H, S, L, S_HSV, V"
   ]
  },
  {
   "cell_type": "code",
   "execution_count": 6,
   "metadata": {},
   "outputs": [
    {
     "name": "stdout",
     "output_type": "stream",
     "text": [
      "('HSL: ', 0.7738095238095237, 0.56, 0.5098039215686274)\n",
      "('HSV: ', 0.7738095238095237, 0.7000000000000001, 0.7843137254901961)\n"
     ]
    }
   ],
   "source": [
    "H, S, L, S_HSV, V = sRGB_to_HSLandHSV(150, 60, 200)\n",
    "print(\"HSL: \", H, S, L)\n",
    "print(\"HSV: \", H, S_HSV, V)"
   ]
  },
  {
   "cell_type": "code",
   "execution_count": 7,
   "metadata": {},
   "outputs": [
    {
     "name": "stdout",
     "output_type": "stream",
     "text": [
      "('CYMK: ', (24.999999999999996, 70.0, 0.0, 21.568627450980394))\n",
      "('XYZ: ', (24.618862450829063, 13.885878414691376, 56.02626593527042))\n",
      "('HSL: ', 0.7738095238095237, 0.56, 0.5098039215686274)\n",
      "('HSV: ', 0.7738095238095237, 0.7000000000000001, 0.7843137254901961)\n"
     ]
    }
   ],
   "source": [
    "R, G, B = 150, 60, 200\n",
    "print(\"CYMK: \", sRGB_to_CYMK(R, G, B))\n",
    "print(\"XYZ: \", sRGB_to_XYZ(R, G, B))\n",
    "H, S, L, S_HSV, V = sRGB_to_HSLandHSV(R, G, B)\n",
    "print(\"HSL: \", H, S, L)\n",
    "print(\"HSV: \", H, S_HSV, V)"
   ]
  },
  {
   "cell_type": "code",
   "execution_count": null,
   "metadata": {
    "collapsed": true
   },
   "outputs": [],
   "source": []
  }
 ],
 "metadata": {
  "anaconda-cloud": {},
  "kernelspec": {
   "display_name": "Python 2",
   "language": "python",
   "name": "python2"
  },
  "language_info": {
   "codemirror_mode": {
    "name": "ipython",
    "version": 2
   },
   "file_extension": ".py",
   "mimetype": "text/x-python",
   "name": "python",
   "nbconvert_exporter": "python",
   "pygments_lexer": "ipython2",
   "version": "2.7.13"
  }
 },
 "nbformat": 4,
 "nbformat_minor": 1
}
